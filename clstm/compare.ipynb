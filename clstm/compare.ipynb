{
 "cells": [
  {
   "cell_type": "code",
   "execution_count": 4,
   "metadata": {},
   "outputs": [],
   "source": [
    "import pandas as pd\n",
    "import numpy as np"
   ]
  },
  {
   "cell_type": "code",
   "execution_count": 5,
   "metadata": {},
   "outputs": [
    {
     "data": {
      "text/html": [
       "<div>\n",
       "<style scoped>\n",
       "    .dataframe tbody tr th:only-of-type {\n",
       "        vertical-align: middle;\n",
       "    }\n",
       "\n",
       "    .dataframe tbody tr th {\n",
       "        vertical-align: top;\n",
       "    }\n",
       "\n",
       "    .dataframe thead th {\n",
       "        text-align: right;\n",
       "    }\n",
       "</style>\n",
       "<table border=\"1\" class=\"dataframe\">\n",
       "  <thead>\n",
       "    <tr style=\"text-align: right;\">\n",
       "      <th></th>\n",
       "      <th>pa</th>\n",
       "      <th>label</th>\n",
       "    </tr>\n",
       "  </thead>\n",
       "  <tbody>\n",
       "    <tr>\n",
       "      <th>0</th>\n",
       "      <td>35680020278 12186920859 35680020277 3568002027...</td>\n",
       "      <td>55988586432</td>\n",
       "    </tr>\n",
       "    <tr>\n",
       "      <th>1</th>\n",
       "      <td>55988586432 35680020278 12186920859 3568002027...</td>\n",
       "      <td>55988586439</td>\n",
       "    </tr>\n",
       "    <tr>\n",
       "      <th>2</th>\n",
       "      <td>55988586439 55988586432 35680020278 1218692085...</td>\n",
       "      <td>55988586444</td>\n",
       "    </tr>\n",
       "    <tr>\n",
       "      <th>3</th>\n",
       "      <td>55988586444 55988586439 55988586432 3568002027...</td>\n",
       "      <td>55988586445</td>\n",
       "    </tr>\n",
       "    <tr>\n",
       "      <th>4</th>\n",
       "      <td>55988586445 55988586444 55988586439 5598858643...</td>\n",
       "      <td>55988586452</td>\n",
       "    </tr>\n",
       "    <tr>\n",
       "      <th>...</th>\n",
       "      <td>...</td>\n",
       "      <td>...</td>\n",
       "    </tr>\n",
       "    <tr>\n",
       "      <th>871610</th>\n",
       "      <td>20318900227 20318900226 35680020271 4614949094...</td>\n",
       "      <td>20318900228</td>\n",
       "    </tr>\n",
       "    <tr>\n",
       "      <th>871611</th>\n",
       "      <td>20318900228 20318900227 20318900226 3568002027...</td>\n",
       "      <td>20318900228</td>\n",
       "    </tr>\n",
       "    <tr>\n",
       "      <th>871612</th>\n",
       "      <td>20318900228 20318900227 20318900226 3568002027...</td>\n",
       "      <td>46149490944</td>\n",
       "    </tr>\n",
       "    <tr>\n",
       "      <th>871613</th>\n",
       "      <td>46149490944 20318900228 20318900227 2031890022...</td>\n",
       "      <td>20318900228</td>\n",
       "    </tr>\n",
       "    <tr>\n",
       "      <th>871614</th>\n",
       "      <td>20318900228 46149490944 20318900227 2031890022...</td>\n",
       "      <td>20318900228</td>\n",
       "    </tr>\n",
       "  </tbody>\n",
       "</table>\n",
       "<p>871615 rows × 2 columns</p>\n",
       "</div>"
      ],
      "text/plain": [
       "                                                       pa        label\n",
       "0       35680020278 12186920859 35680020277 3568002027...  55988586432\n",
       "1       55988586432 35680020278 12186920859 3568002027...  55988586439\n",
       "2       55988586439 55988586432 35680020278 1218692085...  55988586444\n",
       "3       55988586444 55988586439 55988586432 3568002027...  55988586445\n",
       "4       55988586445 55988586444 55988586439 5598858643...  55988586452\n",
       "...                                                   ...          ...\n",
       "871610  20318900227 20318900226 35680020271 4614949094...  20318900228\n",
       "871611  20318900228 20318900227 20318900226 3568002027...  20318900228\n",
       "871612  20318900228 20318900227 20318900226 3568002027...  46149490944\n",
       "871613  46149490944 20318900228 20318900227 2031890022...  20318900228\n",
       "871614  20318900228 46149490944 20318900227 2031890022...  20318900228\n",
       "\n",
       "[871615 rows x 2 columns]"
      ]
     },
     "execution_count": 5,
     "metadata": {},
     "output_type": "execute_result"
    }
   ],
   "source": [
    "leap_cache = pd.read_csv(\"cc_test_ex.csv\")\n",
    "leap_cache"
   ]
  },
  {
   "cell_type": "code",
   "execution_count": 8,
   "metadata": {},
   "outputs": [
    {
     "data": {
      "text/plain": [
       "str"
      ]
     },
     "execution_count": 8,
     "metadata": {},
     "output_type": "execute_result"
    }
   ],
   "source": [
    "type(leap_cache['pa'][0])"
   ]
  },
  {
   "cell_type": "code",
   "execution_count": 6,
   "metadata": {},
   "outputs": [
    {
     "data": {
      "text/html": [
       "<div>\n",
       "<style scoped>\n",
       "    .dataframe tbody tr th:only-of-type {\n",
       "        vertical-align: middle;\n",
       "    }\n",
       "\n",
       "    .dataframe tbody tr th {\n",
       "        vertical-align: top;\n",
       "    }\n",
       "\n",
       "    .dataframe thead th {\n",
       "        text-align: right;\n",
       "    }\n",
       "</style>\n",
       "<table border=\"1\" class=\"dataframe\">\n",
       "  <thead>\n",
       "    <tr style=\"text-align: right;\">\n",
       "      <th></th>\n",
       "      <th>pred</th>\n",
       "      <th>target</th>\n",
       "    </tr>\n",
       "  </thead>\n",
       "  <tbody>\n",
       "    <tr>\n",
       "      <th>0</th>\n",
       "      <td>['35680020283', '35680020282', '35680020284', ...</td>\n",
       "      <td>55988586432</td>\n",
       "    </tr>\n",
       "    <tr>\n",
       "      <th>1</th>\n",
       "      <td>['55988586434', '55988586436', '55988586435', ...</td>\n",
       "      <td>55988586439</td>\n",
       "    </tr>\n",
       "    <tr>\n",
       "      <th>2</th>\n",
       "      <td>['55988586443', '55988586444', '55988586445', ...</td>\n",
       "      <td>55988586444</td>\n",
       "    </tr>\n",
       "    <tr>\n",
       "      <th>3</th>\n",
       "      <td>['55988586449', '55988586450', '55988586448', ...</td>\n",
       "      <td>55988586445</td>\n",
       "    </tr>\n",
       "    <tr>\n",
       "      <th>4</th>\n",
       "      <td>['55988586449', '55988586448', '55988586450', ...</td>\n",
       "      <td>55988586452</td>\n",
       "    </tr>\n",
       "    <tr>\n",
       "      <th>...</th>\n",
       "      <td>...</td>\n",
       "      <td>...</td>\n",
       "    </tr>\n",
       "    <tr>\n",
       "      <th>871610</th>\n",
       "      <td>['20318900236', '20318900235', '20318900234', ...</td>\n",
       "      <td>20318900228</td>\n",
       "    </tr>\n",
       "    <tr>\n",
       "      <th>871611</th>\n",
       "      <td>['20318900236', '20318900237', '20318900235', ...</td>\n",
       "      <td>20318900228</td>\n",
       "    </tr>\n",
       "    <tr>\n",
       "      <th>871612</th>\n",
       "      <td>['20318900236', '35680020275', '35680020278', ...</td>\n",
       "      <td>46149490944</td>\n",
       "    </tr>\n",
       "    <tr>\n",
       "      <th>871613</th>\n",
       "      <td>['20318900236', '35680020275', '20318900237', ...</td>\n",
       "      <td>20318900228</td>\n",
       "    </tr>\n",
       "    <tr>\n",
       "      <th>871614</th>\n",
       "      <td>['20318900236', '20318900235', '20318900237', ...</td>\n",
       "      <td>20318900228</td>\n",
       "    </tr>\n",
       "  </tbody>\n",
       "</table>\n",
       "<p>871615 rows × 2 columns</p>\n",
       "</div>"
      ],
      "text/plain": [
       "                                                     pred       target\n",
       "0       ['35680020283', '35680020282', '35680020284', ...  55988586432\n",
       "1       ['55988586434', '55988586436', '55988586435', ...  55988586439\n",
       "2       ['55988586443', '55988586444', '55988586445', ...  55988586444\n",
       "3       ['55988586449', '55988586450', '55988586448', ...  55988586445\n",
       "4       ['55988586449', '55988586448', '55988586450', ...  55988586452\n",
       "...                                                   ...          ...\n",
       "871610  ['20318900236', '20318900235', '20318900234', ...  20318900228\n",
       "871611  ['20318900236', '20318900237', '20318900235', ...  20318900228\n",
       "871612  ['20318900236', '35680020275', '35680020278', ...  46149490944\n",
       "871613  ['20318900236', '35680020275', '20318900237', ...  20318900228\n",
       "871614  ['20318900236', '20318900235', '20318900237', ...  20318900228\n",
       "\n",
       "[871615 rows x 2 columns]"
      ]
     },
     "execution_count": 6,
     "metadata": {},
     "output_type": "execute_result"
    }
   ],
   "source": [
    "clstm_pred = pd.read_csv(\"result_ex_addr.csv\")\n",
    "clstm_pred"
   ]
  },
  {
   "cell_type": "code",
   "execution_count": 10,
   "metadata": {},
   "outputs": [],
   "source": [
    "from ast import literal_eval\n",
    "def str_to_list(strlist):\n",
    "    return literal_eval(strlist)"
   ]
  },
  {
   "cell_type": "code",
   "execution_count": 11,
   "metadata": {},
   "outputs": [],
   "source": [
    "clstm_pred['pred'] = clstm_pred['pred'].apply(str_to_list)"
   ]
  },
  {
   "cell_type": "code",
   "execution_count": 12,
   "metadata": {},
   "outputs": [
    {
     "data": {
      "text/html": [
       "<div>\n",
       "<style scoped>\n",
       "    .dataframe tbody tr th:only-of-type {\n",
       "        vertical-align: middle;\n",
       "    }\n",
       "\n",
       "    .dataframe tbody tr th {\n",
       "        vertical-align: top;\n",
       "    }\n",
       "\n",
       "    .dataframe thead th {\n",
       "        text-align: right;\n",
       "    }\n",
       "</style>\n",
       "<table border=\"1\" class=\"dataframe\">\n",
       "  <thead>\n",
       "    <tr style=\"text-align: right;\">\n",
       "      <th></th>\n",
       "      <th>pred</th>\n",
       "      <th>target</th>\n",
       "    </tr>\n",
       "  </thead>\n",
       "  <tbody>\n",
       "    <tr>\n",
       "      <th>0</th>\n",
       "      <td>[35680020283, 35680020282, 35680020284, 356800...</td>\n",
       "      <td>55988586432</td>\n",
       "    </tr>\n",
       "    <tr>\n",
       "      <th>1</th>\n",
       "      <td>[55988586434, 55988586436, 55988586435, 559885...</td>\n",
       "      <td>55988586439</td>\n",
       "    </tr>\n",
       "    <tr>\n",
       "      <th>2</th>\n",
       "      <td>[55988586443, 55988586444, 55988586445, 559885...</td>\n",
       "      <td>55988586444</td>\n",
       "    </tr>\n",
       "    <tr>\n",
       "      <th>3</th>\n",
       "      <td>[55988586449, 55988586450, 55988586448, 559885...</td>\n",
       "      <td>55988586445</td>\n",
       "    </tr>\n",
       "    <tr>\n",
       "      <th>4</th>\n",
       "      <td>[55988586449, 55988586448, 55988586450, 559885...</td>\n",
       "      <td>55988586452</td>\n",
       "    </tr>\n",
       "    <tr>\n",
       "      <th>...</th>\n",
       "      <td>...</td>\n",
       "      <td>...</td>\n",
       "    </tr>\n",
       "    <tr>\n",
       "      <th>871610</th>\n",
       "      <td>[20318900236, 20318900235, 20318900234, 203189...</td>\n",
       "      <td>20318900228</td>\n",
       "    </tr>\n",
       "    <tr>\n",
       "      <th>871611</th>\n",
       "      <td>[20318900236, 20318900237, 20318900235, 203189...</td>\n",
       "      <td>20318900228</td>\n",
       "    </tr>\n",
       "    <tr>\n",
       "      <th>871612</th>\n",
       "      <td>[20318900236, 35680020275, 35680020278, 203189...</td>\n",
       "      <td>46149490944</td>\n",
       "    </tr>\n",
       "    <tr>\n",
       "      <th>871613</th>\n",
       "      <td>[20318900236, 35680020275, 20318900237, 356800...</td>\n",
       "      <td>20318900228</td>\n",
       "    </tr>\n",
       "    <tr>\n",
       "      <th>871614</th>\n",
       "      <td>[20318900236, 20318900235, 20318900237, 203189...</td>\n",
       "      <td>20318900228</td>\n",
       "    </tr>\n",
       "  </tbody>\n",
       "</table>\n",
       "<p>871615 rows × 2 columns</p>\n",
       "</div>"
      ],
      "text/plain": [
       "                                                     pred       target\n",
       "0       [35680020283, 35680020282, 35680020284, 356800...  55988586432\n",
       "1       [55988586434, 55988586436, 55988586435, 559885...  55988586439\n",
       "2       [55988586443, 55988586444, 55988586445, 559885...  55988586444\n",
       "3       [55988586449, 55988586450, 55988586448, 559885...  55988586445\n",
       "4       [55988586449, 55988586448, 55988586450, 559885...  55988586452\n",
       "...                                                   ...          ...\n",
       "871610  [20318900236, 20318900235, 20318900234, 203189...  20318900228\n",
       "871611  [20318900236, 20318900237, 20318900235, 203189...  20318900228\n",
       "871612  [20318900236, 35680020275, 35680020278, 203189...  46149490944\n",
       "871613  [20318900236, 35680020275, 20318900237, 356800...  20318900228\n",
       "871614  [20318900236, 20318900235, 20318900237, 203189...  20318900228\n",
       "\n",
       "[871615 rows x 2 columns]"
      ]
     },
     "execution_count": 12,
     "metadata": {},
     "output_type": "execute_result"
    }
   ],
   "source": [
    "clstm_pred"
   ]
  },
  {
   "cell_type": "code",
   "execution_count": 22,
   "metadata": {},
   "outputs": [],
   "source": [
    "def listsplit(ls_str):\n",
    "    return ls_str.split(\" \")"
   ]
  },
  {
   "cell_type": "code",
   "execution_count": 25,
   "metadata": {},
   "outputs": [],
   "source": [
    "leap_cache['pa'] = leap_cache['pa'].apply(listsplit)"
   ]
  },
  {
   "cell_type": "code",
   "execution_count": 26,
   "metadata": {},
   "outputs": [
    {
     "data": {
      "text/html": [
       "<div>\n",
       "<style scoped>\n",
       "    .dataframe tbody tr th:only-of-type {\n",
       "        vertical-align: middle;\n",
       "    }\n",
       "\n",
       "    .dataframe tbody tr th {\n",
       "        vertical-align: top;\n",
       "    }\n",
       "\n",
       "    .dataframe thead th {\n",
       "        text-align: right;\n",
       "    }\n",
       "</style>\n",
       "<table border=\"1\" class=\"dataframe\">\n",
       "  <thead>\n",
       "    <tr style=\"text-align: right;\">\n",
       "      <th></th>\n",
       "      <th>pa</th>\n",
       "      <th>label</th>\n",
       "    </tr>\n",
       "  </thead>\n",
       "  <tbody>\n",
       "    <tr>\n",
       "      <th>0</th>\n",
       "      <td>[35680020278, 12186920859, 35680020277, 356800...</td>\n",
       "      <td>55988586432</td>\n",
       "    </tr>\n",
       "    <tr>\n",
       "      <th>1</th>\n",
       "      <td>[55988586432, 35680020278, 12186920859, 356800...</td>\n",
       "      <td>55988586439</td>\n",
       "    </tr>\n",
       "    <tr>\n",
       "      <th>2</th>\n",
       "      <td>[55988586439, 55988586432, 35680020278, 121869...</td>\n",
       "      <td>55988586444</td>\n",
       "    </tr>\n",
       "    <tr>\n",
       "      <th>3</th>\n",
       "      <td>[55988586444, 55988586439, 55988586432, 356800...</td>\n",
       "      <td>55988586445</td>\n",
       "    </tr>\n",
       "    <tr>\n",
       "      <th>4</th>\n",
       "      <td>[55988586445, 55988586444, 55988586439, 559885...</td>\n",
       "      <td>55988586452</td>\n",
       "    </tr>\n",
       "    <tr>\n",
       "      <th>...</th>\n",
       "      <td>...</td>\n",
       "      <td>...</td>\n",
       "    </tr>\n",
       "    <tr>\n",
       "      <th>871610</th>\n",
       "      <td>[20318900227, 20318900226, 35680020271, 461494...</td>\n",
       "      <td>20318900228</td>\n",
       "    </tr>\n",
       "    <tr>\n",
       "      <th>871611</th>\n",
       "      <td>[20318900228, 20318900227, 20318900226, 356800...</td>\n",
       "      <td>20318900228</td>\n",
       "    </tr>\n",
       "    <tr>\n",
       "      <th>871612</th>\n",
       "      <td>[20318900228, 20318900227, 20318900226, 356800...</td>\n",
       "      <td>46149490944</td>\n",
       "    </tr>\n",
       "    <tr>\n",
       "      <th>871613</th>\n",
       "      <td>[46149490944, 20318900228, 20318900227, 203189...</td>\n",
       "      <td>20318900228</td>\n",
       "    </tr>\n",
       "    <tr>\n",
       "      <th>871614</th>\n",
       "      <td>[20318900228, 46149490944, 20318900227, 203189...</td>\n",
       "      <td>20318900228</td>\n",
       "    </tr>\n",
       "  </tbody>\n",
       "</table>\n",
       "<p>871615 rows × 2 columns</p>\n",
       "</div>"
      ],
      "text/plain": [
       "                                                       pa        label\n",
       "0       [35680020278, 12186920859, 35680020277, 356800...  55988586432\n",
       "1       [55988586432, 35680020278, 12186920859, 356800...  55988586439\n",
       "2       [55988586439, 55988586432, 35680020278, 121869...  55988586444\n",
       "3       [55988586444, 55988586439, 55988586432, 356800...  55988586445\n",
       "4       [55988586445, 55988586444, 55988586439, 559885...  55988586452\n",
       "...                                                   ...          ...\n",
       "871610  [20318900227, 20318900226, 35680020271, 461494...  20318900228\n",
       "871611  [20318900228, 20318900227, 20318900226, 356800...  20318900228\n",
       "871612  [20318900228, 20318900227, 20318900226, 356800...  46149490944\n",
       "871613  [46149490944, 20318900228, 20318900227, 203189...  20318900228\n",
       "871614  [20318900228, 46149490944, 20318900227, 203189...  20318900228\n",
       "\n",
       "[871615 rows x 2 columns]"
      ]
     },
     "execution_count": 26,
     "metadata": {},
     "output_type": "execute_result"
    }
   ],
   "source": [
    "leap_cache"
   ]
  },
  {
   "cell_type": "code",
   "execution_count": 27,
   "metadata": {},
   "outputs": [
    {
     "data": {
      "text/html": [
       "<div>\n",
       "<style scoped>\n",
       "    .dataframe tbody tr th:only-of-type {\n",
       "        vertical-align: middle;\n",
       "    }\n",
       "\n",
       "    .dataframe tbody tr th {\n",
       "        vertical-align: top;\n",
       "    }\n",
       "\n",
       "    .dataframe thead th {\n",
       "        text-align: right;\n",
       "    }\n",
       "</style>\n",
       "<table border=\"1\" class=\"dataframe\">\n",
       "  <thead>\n",
       "    <tr style=\"text-align: right;\">\n",
       "      <th></th>\n",
       "      <th>pred</th>\n",
       "      <th>target</th>\n",
       "    </tr>\n",
       "  </thead>\n",
       "  <tbody>\n",
       "    <tr>\n",
       "      <th>0</th>\n",
       "      <td>[35680020283, 35680020282, 35680020284, 356800...</td>\n",
       "      <td>55988586432</td>\n",
       "    </tr>\n",
       "    <tr>\n",
       "      <th>1</th>\n",
       "      <td>[55988586434, 55988586436, 55988586435, 559885...</td>\n",
       "      <td>55988586439</td>\n",
       "    </tr>\n",
       "    <tr>\n",
       "      <th>2</th>\n",
       "      <td>[55988586443, 55988586444, 55988586445, 559885...</td>\n",
       "      <td>55988586444</td>\n",
       "    </tr>\n",
       "    <tr>\n",
       "      <th>3</th>\n",
       "      <td>[55988586449, 55988586450, 55988586448, 559885...</td>\n",
       "      <td>55988586445</td>\n",
       "    </tr>\n",
       "    <tr>\n",
       "      <th>4</th>\n",
       "      <td>[55988586449, 55988586448, 55988586450, 559885...</td>\n",
       "      <td>55988586452</td>\n",
       "    </tr>\n",
       "    <tr>\n",
       "      <th>...</th>\n",
       "      <td>...</td>\n",
       "      <td>...</td>\n",
       "    </tr>\n",
       "    <tr>\n",
       "      <th>871610</th>\n",
       "      <td>[20318900236, 20318900235, 20318900234, 203189...</td>\n",
       "      <td>20318900228</td>\n",
       "    </tr>\n",
       "    <tr>\n",
       "      <th>871611</th>\n",
       "      <td>[20318900236, 20318900237, 20318900235, 203189...</td>\n",
       "      <td>20318900228</td>\n",
       "    </tr>\n",
       "    <tr>\n",
       "      <th>871612</th>\n",
       "      <td>[20318900236, 35680020275, 35680020278, 203189...</td>\n",
       "      <td>46149490944</td>\n",
       "    </tr>\n",
       "    <tr>\n",
       "      <th>871613</th>\n",
       "      <td>[20318900236, 35680020275, 20318900237, 356800...</td>\n",
       "      <td>20318900228</td>\n",
       "    </tr>\n",
       "    <tr>\n",
       "      <th>871614</th>\n",
       "      <td>[20318900236, 20318900235, 20318900237, 203189...</td>\n",
       "      <td>20318900228</td>\n",
       "    </tr>\n",
       "  </tbody>\n",
       "</table>\n",
       "<p>871615 rows × 2 columns</p>\n",
       "</div>"
      ],
      "text/plain": [
       "                                                     pred       target\n",
       "0       [35680020283, 35680020282, 35680020284, 356800...  55988586432\n",
       "1       [55988586434, 55988586436, 55988586435, 559885...  55988586439\n",
       "2       [55988586443, 55988586444, 55988586445, 559885...  55988586444\n",
       "3       [55988586449, 55988586450, 55988586448, 559885...  55988586445\n",
       "4       [55988586449, 55988586448, 55988586450, 559885...  55988586452\n",
       "...                                                   ...          ...\n",
       "871610  [20318900236, 20318900235, 20318900234, 203189...  20318900228\n",
       "871611  [20318900236, 20318900237, 20318900235, 203189...  20318900228\n",
       "871612  [20318900236, 35680020275, 35680020278, 203189...  46149490944\n",
       "871613  [20318900236, 35680020275, 20318900237, 356800...  20318900228\n",
       "871614  [20318900236, 20318900235, 20318900237, 203189...  20318900228\n",
       "\n",
       "[871615 rows x 2 columns]"
      ]
     },
     "execution_count": 27,
     "metadata": {},
     "output_type": "execute_result"
    }
   ],
   "source": [
    "clstm_pred"
   ]
  },
  {
   "cell_type": "code",
   "execution_count": 40,
   "metadata": {},
   "outputs": [
    {
     "name": "stdout",
     "output_type": "stream",
     "text": [
      "55988586448\n",
      "55988586453\n",
      "clstm prefetch :  8\n"
     ]
    }
   ],
   "source": [
    "overlap = 0\n",
    "for num in clstm_pred['pred'][4][:10]:\n",
    "    if num in leap_cache['pa'][4]:\n",
    "        overlap+=1\n",
    "        print(num)\n",
    "        \n",
    "print(\"clstm prefetch : \", len(clstm_pred['pred'][0][:10]) - overlap)"
   ]
  },
  {
   "cell_type": "code",
   "execution_count": 43,
   "metadata": {},
   "outputs": [
    {
     "data": {
      "text/plain": [
       "str"
      ]
     },
     "execution_count": 43,
     "metadata": {},
     "output_type": "execute_result"
    }
   ],
   "source": [
    "type(clstm_pred['pred'][0][0])"
   ]
  },
  {
   "cell_type": "code",
   "execution_count": 44,
   "metadata": {},
   "outputs": [
    {
     "name": "stdout",
     "output_type": "stream",
     "text": [
      "35680020283\n"
     ]
    }
   ],
   "source": [
    "a = int(clstm_pred['pred'][0][0])\n",
    "print(a)"
   ]
  },
  {
   "cell_type": "code",
   "execution_count": 45,
   "metadata": {},
   "outputs": [
    {
     "data": {
      "text/plain": [
       "'35680020283'"
      ]
     },
     "execution_count": 45,
     "metadata": {},
     "output_type": "execute_result"
    }
   ],
   "source": [
    "clstm_pred['pred'][0][0]"
   ]
  },
  {
   "cell_type": "markdown",
   "metadata": {},
   "source": [
    "### Compare the number of prefetch data"
   ]
  },
  {
   "cell_type": "code",
   "execution_count": 19,
   "metadata": {},
   "outputs": [],
   "source": [
    "# leap_f = open(\"../../samsung/sykim/prefetch_2024/deep_learning_data/cc/pf_data_num_leap.txt\", \"r\")\n",
    "leap_f =  open(\"../deep_learning_data/pf_data_num_leap.txt\", \"r\")\n",
    "leap_list = []\n",
    "while True:\n",
    "    line = leap_f.readline()\n",
    "    if not line:\n",
    "        break\n",
    "    leap_list.append(int(line))"
   ]
  },
  {
   "cell_type": "code",
   "execution_count": 20,
   "metadata": {},
   "outputs": [
    {
     "data": {
      "text/plain": [
       "0.696782"
      ]
     },
     "execution_count": 20,
     "metadata": {},
     "output_type": "execute_result"
    }
   ],
   "source": [
    "sum(leap_list) / len(leap_list)"
   ]
  },
  {
   "cell_type": "code",
   "execution_count": 21,
   "metadata": {},
   "outputs": [],
   "source": [
    "clstm_f = open(\"../deep_learning_data/pf_data_num_clstm.txt\", \"r\")\n",
    "# clstm_f = open(\"../../samsung/sykim/prefetch_2024/deep_learning_data/cc/pf_data_num_clstm.txt\", \"r\")\n",
    "clstm_list = []\n",
    "while True:\n",
    "    line = clstm_f.readline()\n",
    "    if not line:\n",
    "        break\n",
    "    clstm_list.append(int(line))"
   ]
  },
  {
   "cell_type": "code",
   "execution_count": 22,
   "metadata": {},
   "outputs": [
    {
     "data": {
      "text/plain": [
       "4.298425"
      ]
     },
     "execution_count": 22,
     "metadata": {},
     "output_type": "execute_result"
    }
   ],
   "source": [
    "sum(clstm_list) / len(clstm_list)"
   ]
  },
  {
   "cell_type": "code",
   "execution_count": 23,
   "metadata": {},
   "outputs": [
    {
     "data": {
      "text/plain": [
       "22"
      ]
     },
     "execution_count": 23,
     "metadata": {},
     "output_type": "execute_result"
    }
   ],
   "source": [
    "max(clstm_list)"
   ]
  },
  {
   "cell_type": "code",
   "execution_count": 24,
   "metadata": {},
   "outputs": [
    {
     "data": {
      "text/plain": [
       "2"
      ]
     },
     "execution_count": 24,
     "metadata": {},
     "output_type": "execute_result"
    }
   ],
   "source": [
    "max(leap_list)"
   ]
  },
  {
   "cell_type": "code",
   "execution_count": 25,
   "metadata": {},
   "outputs": [],
   "source": [
    "def normalize(data):\n",
    "    min_val = min(data)\n",
    "    max_val = max(data)\n",
    "    normalized_data = [(x - min_val) / (max_val - min_val) for x in data]\n",
    "    return normalized_data"
   ]
  },
  {
   "cell_type": "code",
   "execution_count": 6,
   "metadata": {},
   "outputs": [
    {
     "ename": "SyntaxError",
     "evalue": "illegal target for annotation (3102084527.py, line 1)",
     "output_type": "error",
     "traceback": [
      "\u001b[0;36m  Cell \u001b[0;32mIn[6], line 1\u001b[0;36m\u001b[0m\n\u001b[0;31m    'No Prefetcher': [0, 0],\u001b[0m\n\u001b[0m    ^\u001b[0m\n\u001b[0;31mSyntaxError\u001b[0m\u001b[0;31m:\u001b[0m illegal target for annotation\n"
     ]
    }
   ],
   "source": [
    "'No Prefetcher': [0, 0],\n",
    "'Leap': [0.299609, 0.696782],\n",
    "'CLSTM': [2.017044, 4.298425]\n",
    "[0, 0.299609, 0.696782, 2.017044, 4.298425, 22]"
   ]
  },
  {
   "cell_type": "code",
   "execution_count": 7,
   "metadata": {},
   "outputs": [],
   "source": [
    "norm = normalize([0, 0.299609, 0.696782, 2.017044, 4.298425, 22])"
   ]
  },
  {
   "cell_type": "code",
   "execution_count": 9,
   "metadata": {},
   "outputs": [
    {
     "data": {
      "text/plain": [
       "[0.0,\n",
       " 0.01361859090909091,\n",
       " 0.03167190909090909,\n",
       " 0.09168381818181817,\n",
       " 0.19538295454545454,\n",
       " 1.0]"
      ]
     },
     "execution_count": 9,
     "metadata": {},
     "output_type": "execute_result"
    }
   ],
   "source": [
    "norm"
   ]
  },
  {
   "cell_type": "markdown",
   "metadata": {},
   "source": [
    "### Compare Used Ratio"
   ]
  },
  {
   "cell_type": "code",
   "execution_count": 26,
   "metadata": {},
   "outputs": [],
   "source": [
    "clstm_pref = [x for x in clstm_list if x != 0]"
   ]
  },
  {
   "cell_type": "code",
   "execution_count": 27,
   "metadata": {},
   "outputs": [
    {
     "data": {
      "text/plain": [
       "629313"
      ]
     },
     "execution_count": 27,
     "metadata": {},
     "output_type": "execute_result"
    }
   ],
   "source": [
    "len(clstm_pref)"
   ]
  },
  {
   "cell_type": "code",
   "execution_count": 28,
   "metadata": {},
   "outputs": [],
   "source": [
    "leap_pref = [x for x in leap_list if x != 0]"
   ]
  },
  {
   "cell_type": "code",
   "execution_count": 29,
   "metadata": {},
   "outputs": [
    {
     "data": {
      "text/plain": [
       "604645"
      ]
     },
     "execution_count": 29,
     "metadata": {},
     "output_type": "execute_result"
    }
   ],
   "source": [
    "len(leap_pref)"
   ]
  },
  {
   "cell_type": "code",
   "execution_count": 30,
   "metadata": {},
   "outputs": [],
   "source": [
    "clstm_pf_hit = 273336\n",
    "leap_pf_hit = 165635"
   ]
  },
  {
   "cell_type": "code",
   "execution_count": 31,
   "metadata": {},
   "outputs": [],
   "source": [
    "useless_clstm = sum(clstm_pref) - clstm_pf_hit\n",
    "useless_leap = sum(leap_pref) - leap_pf_hit"
   ]
  },
  {
   "cell_type": "code",
   "execution_count": 32,
   "metadata": {},
   "outputs": [],
   "source": [
    "ratio_clstm = useless_clstm / sum(clstm_pref)\n",
    "ratio_leap = useless_leap / sum(leap_pref)"
   ]
  },
  {
   "cell_type": "code",
   "execution_count": 33,
   "metadata": {},
   "outputs": [
    {
     "data": {
      "text/plain": [
       "0.7622857651317054"
      ]
     },
     "execution_count": 33,
     "metadata": {},
     "output_type": "execute_result"
    }
   ],
   "source": [
    "ratio_leap"
   ]
  },
  {
   "cell_type": "code",
   "execution_count": 34,
   "metadata": {},
   "outputs": [
    {
     "data": {
      "text/plain": [
       "0.9364101967581149"
      ]
     },
     "execution_count": 34,
     "metadata": {},
     "output_type": "execute_result"
    }
   ],
   "source": [
    "ratio_clstm"
   ]
  },
  {
   "cell_type": "code",
   "execution_count": null,
   "metadata": {},
   "outputs": [],
   "source": []
  }
 ],
 "metadata": {
  "kernelspec": {
   "display_name": "prefetch",
   "language": "python",
   "name": "python3"
  },
  "language_info": {
   "codemirror_mode": {
    "name": "ipython",
    "version": 3
   },
   "file_extension": ".py",
   "mimetype": "text/x-python",
   "name": "python",
   "nbconvert_exporter": "python",
   "pygments_lexer": "ipython3",
   "version": "3.9.13"
  }
 },
 "nbformat": 4,
 "nbformat_minor": 2
}
