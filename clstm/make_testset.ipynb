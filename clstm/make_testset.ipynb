{
 "cells": [
  {
   "cell_type": "code",
   "execution_count": 1,
   "metadata": {},
   "outputs": [
    {
     "name": "stderr",
     "output_type": "stream",
     "text": [
      "/tmp/ipykernel_213558/2094786275.py:1: DeprecationWarning: \n",
      "Pyarrow will become a required dependency of pandas in the next major release of pandas (pandas 3.0),\n",
      "(to allow more performant data types, such as the Arrow string type, and better interoperability with other libraries)\n",
      "but was not found to be installed on your system.\n",
      "If this would cause problems for you,\n",
      "please provide us feedback at https://github.com/pandas-dev/pandas/issues/54466\n",
      "        \n",
      "  import pandas as pd\n"
     ]
    }
   ],
   "source": [
    "import pandas as pd\n",
    "import numpy"
   ]
  },
  {
   "cell_type": "code",
   "execution_count": 3,
   "metadata": {},
   "outputs": [
    {
     "data": {
      "text/html": [
       "<div>\n",
       "<style scoped>\n",
       "    .dataframe tbody tr th:only-of-type {\n",
       "        vertical-align: middle;\n",
       "    }\n",
       "\n",
       "    .dataframe tbody tr th {\n",
       "        vertical-align: top;\n",
       "    }\n",
       "\n",
       "    .dataframe thead th {\n",
       "        text-align: right;\n",
       "    }\n",
       "</style>\n",
       "<table border=\"1\" class=\"dataframe\">\n",
       "  <thead>\n",
       "    <tr style=\"text-align: right;\">\n",
       "      <th></th>\n",
       "      <th>pa</th>\n",
       "      <th>label</th>\n",
       "    </tr>\n",
       "  </thead>\n",
       "  <tbody>\n",
       "    <tr>\n",
       "      <th>0</th>\n",
       "      <td>55988586455 55988586453 20318900252 5598858645...</td>\n",
       "      <td>55988586455</td>\n",
       "    </tr>\n",
       "    <tr>\n",
       "      <th>1</th>\n",
       "      <td>55988586455 55988586453 20318900252 5598858645...</td>\n",
       "      <td>55988586455</td>\n",
       "    </tr>\n",
       "    <tr>\n",
       "      <th>2</th>\n",
       "      <td>55988586455 55988586453 20318900252 5598858645...</td>\n",
       "      <td>55988586455</td>\n",
       "    </tr>\n",
       "    <tr>\n",
       "      <th>3</th>\n",
       "      <td>55988586455 55988586453 20318900252 5598858645...</td>\n",
       "      <td>55988586455</td>\n",
       "    </tr>\n",
       "    <tr>\n",
       "      <th>4</th>\n",
       "      <td>55988586455 55988586453 20318900252 5598858645...</td>\n",
       "      <td>55988586456</td>\n",
       "    </tr>\n",
       "    <tr>\n",
       "      <th>...</th>\n",
       "      <td>...</td>\n",
       "      <td>...</td>\n",
       "    </tr>\n",
       "    <tr>\n",
       "      <th>4999731</th>\n",
       "      <td>25931118959 54204048566 54204048555 5420404853...</td>\n",
       "      <td>54204048568</td>\n",
       "    </tr>\n",
       "    <tr>\n",
       "      <th>4999732</th>\n",
       "      <td>54204048568 25931118959 54204048566 5420404855...</td>\n",
       "      <td>1088545547</td>\n",
       "    </tr>\n",
       "    <tr>\n",
       "      <th>4999733</th>\n",
       "      <td>1088545547 54204048568 25931118959 54204048566...</td>\n",
       "      <td>1088545552</td>\n",
       "    </tr>\n",
       "    <tr>\n",
       "      <th>4999734</th>\n",
       "      <td>1088545552 1088545547 54204048568 25931118959 ...</td>\n",
       "      <td>1088545552</td>\n",
       "    </tr>\n",
       "    <tr>\n",
       "      <th>4999735</th>\n",
       "      <td>1088545552 1088545547 54204048568 25931118959 ...</td>\n",
       "      <td>1088545572</td>\n",
       "    </tr>\n",
       "  </tbody>\n",
       "</table>\n",
       "<p>4999736 rows × 2 columns</p>\n",
       "</div>"
      ],
      "text/plain": [
       "                                                        pa        label\n",
       "0        55988586455 55988586453 20318900252 5598858645...  55988586455\n",
       "1        55988586455 55988586453 20318900252 5598858645...  55988586455\n",
       "2        55988586455 55988586453 20318900252 5598858645...  55988586455\n",
       "3        55988586455 55988586453 20318900252 5598858645...  55988586455\n",
       "4        55988586455 55988586453 20318900252 5598858645...  55988586456\n",
       "...                                                    ...          ...\n",
       "4999731  25931118959 54204048566 54204048555 5420404853...  54204048568\n",
       "4999732  54204048568 25931118959 54204048566 5420404855...   1088545547\n",
       "4999733  1088545547 54204048568 25931118959 54204048566...   1088545552\n",
       "4999734  1088545552 1088545547 54204048568 25931118959 ...   1088545552\n",
       "4999735  1088545552 1088545547 54204048568 25931118959 ...   1088545572\n",
       "\n",
       "[4999736 rows x 2 columns]"
      ]
     },
     "execution_count": 3,
     "metadata": {},
     "output_type": "execute_result"
    }
   ],
   "source": [
    "orig = pd.read_csv(\"cc_5m_all.csv\")\n",
    "orig"
   ]
  },
  {
   "cell_type": "code",
   "execution_count": 4,
   "metadata": {},
   "outputs": [
    {
     "data": {
      "text/html": [
       "<div>\n",
       "<style scoped>\n",
       "    .dataframe tbody tr th:only-of-type {\n",
       "        vertical-align: middle;\n",
       "    }\n",
       "\n",
       "    .dataframe tbody tr th {\n",
       "        vertical-align: top;\n",
       "    }\n",
       "\n",
       "    .dataframe thead th {\n",
       "        text-align: right;\n",
       "    }\n",
       "</style>\n",
       "<table border=\"1\" class=\"dataframe\">\n",
       "  <thead>\n",
       "    <tr style=\"text-align: right;\">\n",
       "      <th></th>\n",
       "      <th>pa</th>\n",
       "      <th>label</th>\n",
       "    </tr>\n",
       "  </thead>\n",
       "  <tbody>\n",
       "    <tr>\n",
       "      <th>4999733</th>\n",
       "      <td>1088545547 54204048568 25931118959 54204048566...</td>\n",
       "      <td>1088545552</td>\n",
       "    </tr>\n",
       "    <tr>\n",
       "      <th>4999734</th>\n",
       "      <td>1088545552 1088545547 54204048568 25931118959 ...</td>\n",
       "      <td>1088545552</td>\n",
       "    </tr>\n",
       "    <tr>\n",
       "      <th>4999735</th>\n",
       "      <td>1088545552 1088545547 54204048568 25931118959 ...</td>\n",
       "      <td>1088545572</td>\n",
       "    </tr>\n",
       "  </tbody>\n",
       "</table>\n",
       "</div>"
      ],
      "text/plain": [
       "                                                        pa       label\n",
       "4999733  1088545547 54204048568 25931118959 54204048566...  1088545552\n",
       "4999734  1088545552 1088545547 54204048568 25931118959 ...  1088545552\n",
       "4999735  1088545552 1088545547 54204048568 25931118959 ...  1088545572"
      ]
     },
     "execution_count": 4,
     "metadata": {},
     "output_type": "execute_result"
    }
   ],
   "source": [
    "testex = orig[-3:]\n",
    "testex"
   ]
  },
  {
   "cell_type": "code",
   "execution_count": 5,
   "metadata": {},
   "outputs": [],
   "source": [
    "test = orig[-2000000:]"
   ]
  },
  {
   "cell_type": "code",
   "execution_count": 6,
   "metadata": {},
   "outputs": [],
   "source": [
    "test.to_csv(\"cc_2m_test.csv\", index=False)"
   ]
  },
  {
   "cell_type": "code",
   "execution_count": null,
   "metadata": {},
   "outputs": [],
   "source": []
  }
 ],
 "metadata": {
  "kernelspec": {
   "display_name": "prefetch",
   "language": "python",
   "name": "python3"
  },
  "language_info": {
   "codemirror_mode": {
    "name": "ipython",
    "version": 3
   },
   "file_extension": ".py",
   "mimetype": "text/x-python",
   "name": "python",
   "nbconvert_exporter": "python",
   "pygments_lexer": "ipython3",
   "version": "3.9.13"
  }
 },
 "nbformat": 4,
 "nbformat_minor": 2
}
