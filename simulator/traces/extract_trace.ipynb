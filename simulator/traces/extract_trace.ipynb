{
 "cells": [
  {
   "cell_type": "code",
   "execution_count": 1,
   "metadata": {},
   "outputs": [],
   "source": [
    "import lzma\n",
    "import pandas as pd"
   ]
  },
  {
   "cell_type": "code",
   "execution_count": 29,
   "metadata": {},
   "outputs": [],
   "source": [
    "addrs = []\n",
    "def change(file_path):\n",
    "    if file_path.endswith('.txt.xz'):\n",
    "        with lzma.open(file_path, mode='rt', encoding='utf-8') as f:\n",
    "            for i, line in enumerate(f):\n",
    "                if i == 10000000:\n",
    "                    break\n",
    "                # Necessary for some extraneous lines in MLPrefetchingCompetition traces\n",
    "                if line.startswith('***') or line.startswith('Read'):\n",
    "                    continue\n",
    "                split = line.strip().split(', ')\n",
    "                inst_id, pc, addr = int(split[0]), int(split[3], 16), int(split[2], 16)\n",
    "                addrs.append(addr)\n",
    "    return addrs\n"
   ]
  },
  {
   "cell_type": "code",
   "execution_count": 30,
   "metadata": {},
   "outputs": [],
   "source": [
    "# trace\n",
    "addrs = change(\"ChampSim_trace/spec17-selected/mcf-s4.txt.xz\")"
   ]
  },
  {
   "cell_type": "code",
   "execution_count": 31,
   "metadata": {},
   "outputs": [],
   "source": [
    "addr_df = pd.DataFrame({\"addr\":addrs})\n",
    "addr_df.to_csv(\"./vaddr/mcf.vaddr\", index=False)"
   ]
  },
  {
   "cell_type": "code",
   "execution_count": null,
   "metadata": {},
   "outputs": [],
   "source": []
  }
 ],
 "metadata": {
  "kernelspec": {
   "display_name": "tf",
   "language": "python",
   "name": "python3"
  },
  "language_info": {
   "codemirror_mode": {
    "name": "ipython",
    "version": 3
   },
   "file_extension": ".py",
   "mimetype": "text/x-python",
   "name": "python",
   "nbconvert_exporter": "python",
   "pygments_lexer": "ipython3",
   "version": "3.9.13"
  }
 },
 "nbformat": 4,
 "nbformat_minor": 2
}
