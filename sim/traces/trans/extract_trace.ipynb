{
 "cells": [
  {
   "cell_type": "code",
   "execution_count": 1,
   "metadata": {},
   "outputs": [
    {
     "name": "stderr",
     "output_type": "stream",
     "text": [
      "/tmp/ipykernel_462900/1541273080.py:2: DeprecationWarning: \n",
      "Pyarrow will become a required dependency of pandas in the next major release of pandas (pandas 3.0),\n",
      "(to allow more performant data types, such as the Arrow string type, and better interoperability with other libraries)\n",
      "but was not found to be installed on your system.\n",
      "If this would cause problems for you,\n",
      "please provide us feedback at https://github.com/pandas-dev/pandas/issues/54466\n",
      "        \n",
      "  import pandas as pd\n"
     ]
    }
   ],
   "source": [
    "import lzma\n",
    "import pandas as pd"
   ]
  },
  {
   "cell_type": "code",
   "execution_count": 2,
   "metadata": {},
   "outputs": [],
   "source": [
    "addrs = []\n",
    "def change(file_path):\n",
    "    if file_path.endswith('.txt.xz'):\n",
    "        with lzma.open(file_path, mode='rt', encoding='utf-8') as f:\n",
    "            for i, line in enumerate(f):\n",
    "                if i == 10000000:\n",
    "                    break\n",
    "                # Necessary for some extraneous lines in MLPrefetchingCompetition traces\n",
    "                if line.startswith('***') or line.startswith('Read'):\n",
    "                    continue\n",
    "                split = line.strip().split(', ')\n",
    "                inst_id, pc, addr = int(split[0]), int(split[3], 16), int(split[2], 16)\n",
    "                addrs.append(addr)\n",
    "    return addrs\n"
   ]
  },
  {
   "cell_type": "code",
   "execution_count": 3,
   "metadata": {},
   "outputs": [],
   "source": [
    "addrs = change(\"traces/605.mcf-s0.txt.xz\")"
   ]
  },
  {
   "cell_type": "code",
   "execution_count": 10,
   "metadata": {},
   "outputs": [],
   "source": [
    "addr_df = pd.DataFrame({\"addr\":addrs})\n",
    "addr_df.to_csv(\"mcf-s0.vaddr\", index=False)"
   ]
  },
  {
   "cell_type": "code",
   "execution_count": null,
   "metadata": {},
   "outputs": [],
   "source": []
  }
 ],
 "metadata": {
  "kernelspec": {
   "display_name": "tf",
   "language": "python",
   "name": "python3"
  },
  "language_info": {
   "codemirror_mode": {
    "name": "ipython",
    "version": 3
   },
   "file_extension": ".py",
   "mimetype": "text/x-python",
   "name": "python",
   "nbconvert_exporter": "python",
   "pygments_lexer": "ipython3",
   "version": "3.10.13"
  }
 },
 "nbformat": 4,
 "nbformat_minor": 2
}
